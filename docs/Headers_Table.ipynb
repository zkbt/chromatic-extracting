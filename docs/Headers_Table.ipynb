{
 "cells": [
  {
   "cell_type": "markdown",
   "id": "028122be-aec9-4159-a788-e77309618095",
   "metadata": {},
   "source": [
    "# Astropy Table with Headers and Values\n",
    "This tutorial will show how to create an astropy table that organized the headers as well as the values associated with FITS files. \n"
   ]
  },
  {
   "cell_type": "markdown",
   "id": "98a2fbcb-e9be-4f4a-86c2-68f0c25f368e",
   "metadata": {},
   "source": [
    "### Imports and Opening FITS files\n",
    "To begin, start with importing the following:"
   ]
  },
  {
   "cell_type": "code",
   "execution_count": 7,
   "id": "5cee9569-0580-443d-9b2e-3879f84e90c0",
   "metadata": {},
   "outputs": [],
   "source": [
    "import chromatic_extracting\n",
    "from astropy.io import fits\n",
    "from astropy.table import Table\n",
    "import os\n",
    "import shutil"
   ]
  },
  {
   "cell_type": "markdown",
   "id": "483ab568-bdf0-4d84-8de3-c2dbd0e013e9",
   "metadata": {},
   "source": [
    "Next, organize the FITS files in a folder and create a path to them. For my specific computer, the code is as follows:"
   ]
  },
  {
   "cell_type": "code",
   "execution_count": 8,
   "id": "6abc11ab-8521-496c-b6b3-747be8e4c9e2",
   "metadata": {},
   "outputs": [],
   "source": [
    "# Directory containing FITS files\n",
    "fits_directory = r'C:\\Users\\vaver\\OneDrive - UCB-O365\\Documents\\Pypeit\\UT230614-copy'"
   ]
  },
  {
   "cell_type": "markdown",
   "id": "d86133e5-1247-44e6-a6c0-ed2f8681e113",
   "metadata": {},
   "source": [
    "The files in this folder are FITS files and were gathered at the Apache Point Obervatory using the 3.5 m telescope. \n",
    "\n",
    "For the astropy table, the first row will consist of the headers that are associated with the FITS files (One thing that I am assuming here is that all files have the same headers. I think if a file contains different headers, it will simply add it on and yield a null value for the other files). Create an empty list for the headers:"
   ]
  },
  {
   "cell_type": "code",
   "execution_count": 9,
   "id": "721794ed-3b2f-4e77-82f0-d31c0bbd5437",
   "metadata": {},
   "outputs": [],
   "source": [
    "# Create a list to store headers\n",
    "header_list = []"
   ]
  },
  {
   "cell_type": "markdown",
   "id": "f2b5aa76-7c7e-459f-a3cb-d761cc4fbc15",
   "metadata": {},
   "source": [
    "Now, we will iterate over the FITS files and store both the headers as well as the file names:"
   ]
  },
  {
   "cell_type": "code",
   "execution_count": 10,
   "id": "9810f00a-a954-4a07-ade9-10dd06d42897",
   "metadata": {},
   "outputs": [],
   "source": [
    "# Iterate over all FITS files in the directory\n",
    "for filename in os.listdir(fits_directory):\n",
    "    if filename.endswith('.fits'):\n",
    "        fits_file = os.path.join(fits_directory, filename)\n",
    "        \n",
    "        with fits.open(fits_file) as hdul:\n",
    "            file_names.append(filename) #store file name\n",
    "            header_list.append(hdul[0].header)"
   ]
  },
  {
   "cell_type": "markdown",
   "id": "4884595c-4e5b-4f6f-bcf2-8bc62f55d528",
   "metadata": {},
   "source": [
    "Now that we have the headers stored, we will create the astropy table. The first row will contain the file names and headers and subsequent rows will contain the values assosciated with these columns:"
   ]
  },
  {
   "cell_type": "code",
   "execution_count": 11,
   "id": "fde475c7-c3f4-4f41-8a6f-78b66be2e88a",
   "metadata": {},
   "outputs": [],
   "source": [
    "# Create a table to store header information\n",
    "astropy_table = Table()\n",
    "\n",
    "# Add columns to the table for each keyword\n",
    "for keyword in header_list[0].keys():\n",
    "    # Create a list to hold values for this keyword\n",
    "    values = []\n",
    "    for header in header_list:\n",
    "        # Append the value for the current keyword or None if not present\n",
    "        values.append(header.get(keyword, None))\n",
    "    # Add the list of values as a new column in the table\n",
    "    astropy_table[keyword] = values"
   ]
  },
  {
   "cell_type": "markdown",
   "id": "a9d73933-6ef7-4729-b896-5c77d797af9e",
   "metadata": {},
   "source": [
    "All that is left is to save the astropy table so that it is easy to view later. For this specific tutorial, I created a csv file: "
   ]
  },
  {
   "cell_type": "code",
   "execution_count": 12,
   "id": "5e798650-b774-4370-8b18-62b666dfa783",
   "metadata": {},
   "outputs": [],
   "source": [
    "# Write the table to a CSV file\n",
    "csv_filename = 'header_table.csv'\n",
    "astropy_table.write(csv_filename, format='csv', overwrite=True)"
   ]
  },
  {
   "cell_type": "code",
   "execution_count": null,
   "id": "8a9051ff-a49c-4886-acc7-67d0f9922ece",
   "metadata": {},
   "outputs": [],
   "source": []
  }
 ],
 "metadata": {
  "kernelspec": {
   "display_name": "Python 3 (ipykernel)",
   "language": "python",
   "name": "python3"
  },
  "language_info": {
   "codemirror_mode": {
    "name": "ipython",
    "version": 3
   },
   "file_extension": ".py",
   "mimetype": "text/x-python",
   "name": "python",
   "nbconvert_exporter": "python",
   "pygments_lexer": "ipython3",
   "version": "3.11.3"
  }
 },
 "nbformat": 4,
 "nbformat_minor": 5
}
